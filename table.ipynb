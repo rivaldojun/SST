{
 "cells": [
  {
   "cell_type": "code",
   "execution_count": 6,
   "metadata": {},
   "outputs": [],
   "source": [
    "import pandas as pd"
   ]
  },
  {
   "cell_type": "code",
   "execution_count": 9,
   "metadata": {},
   "outputs": [
    {
     "data": {
      "text/html": [
       "<div>\n",
       "<style scoped>\n",
       "    .dataframe tbody tr th:only-of-type {\n",
       "        vertical-align: middle;\n",
       "    }\n",
       "\n",
       "    .dataframe tbody tr th {\n",
       "        vertical-align: top;\n",
       "    }\n",
       "\n",
       "    .dataframe thead th {\n",
       "        text-align: right;\n",
       "    }\n",
       "</style>\n",
       "<table border=\"1\" class=\"dataframe\">\n",
       "  <thead>\n",
       "    <tr style=\"text-align: right;\">\n",
       "      <th></th>\n",
       "      <th>a</th>\n",
       "      <th>b</th>\n",
       "      <th>c</th>\n",
       "      <th>d</th>\n",
       "      <th>e</th>\n",
       "      <th>f</th>\n",
       "      <th>g</th>\n",
       "      <th>h</th>\n",
       "    </tr>\n",
       "  </thead>\n",
       "  <tbody>\n",
       "    <tr>\n",
       "      <th>0</th>\n",
       "      <td>1</td>\n",
       "      <td>2</td>\n",
       "      <td>2</td>\n",
       "      <td>2</td>\n",
       "      <td>2</td>\n",
       "      <td>3</td>\n",
       "      <td>3</td>\n",
       "      <td>3</td>\n",
       "    </tr>\n",
       "    <tr>\n",
       "      <th>1</th>\n",
       "      <td>2</td>\n",
       "      <td>2</td>\n",
       "      <td>2</td>\n",
       "      <td>2</td>\n",
       "      <td>3</td>\n",
       "      <td>3</td>\n",
       "      <td>3</td>\n",
       "      <td>3</td>\n",
       "    </tr>\n",
       "    <tr>\n",
       "      <th>2</th>\n",
       "      <td>2</td>\n",
       "      <td>3</td>\n",
       "      <td>3</td>\n",
       "      <td>3</td>\n",
       "      <td>3</td>\n",
       "      <td>3</td>\n",
       "      <td>4</td>\n",
       "      <td>4</td>\n",
       "    </tr>\n",
       "    <tr>\n",
       "      <th>3</th>\n",
       "      <td>2</td>\n",
       "      <td>3</td>\n",
       "      <td>3</td>\n",
       "      <td>3</td>\n",
       "      <td>3</td>\n",
       "      <td>4</td>\n",
       "      <td>4</td>\n",
       "      <td>4</td>\n",
       "    </tr>\n",
       "    <tr>\n",
       "      <th>4</th>\n",
       "      <td>3</td>\n",
       "      <td>3</td>\n",
       "      <td>3</td>\n",
       "      <td>3</td>\n",
       "      <td>3</td>\n",
       "      <td>4</td>\n",
       "      <td>4</td>\n",
       "      <td>4</td>\n",
       "    </tr>\n",
       "  </tbody>\n",
       "</table>\n",
       "</div>"
      ],
      "text/plain": [
       "   a  b  c  d  e  f  g  h\n",
       "0  1  2  2  2  2  3  3  3\n",
       "1  2  2  2  2  3  3  3  3\n",
       "2  2  3  3  3  3  3  4  4\n",
       "3  2  3  3  3  3  4  4  4\n",
       "4  3  3  3  3  3  4  4  4"
      ]
     },
     "execution_count": 9,
     "metadata": {},
     "output_type": "execute_result"
    }
   ],
   "source": [
    "table_A = pd.read_csv('Table_A.csv')\n",
    "table_A.head()"
   ]
  },
  {
   "cell_type": "code",
   "execution_count": 11,
   "metadata": {},
   "outputs": [
    {
     "data": {
      "text/plain": [
       "a    1\n",
       "b    2\n",
       "c    2\n",
       "d    2\n",
       "e    2\n",
       "f    3\n",
       "g    3\n",
       "h    3\n",
       "Name: 0, dtype: int64"
      ]
     },
     "execution_count": 11,
     "metadata": {},
     "output_type": "execute_result"
    }
   ],
   "source": [
    "table_A.iloc[0]"
   ]
  },
  {
   "cell_type": "code",
   "execution_count": 32,
   "metadata": {},
   "outputs": [
    {
     "name": "stdout",
     "output_type": "stream",
     "text": [
      "{1: [[1, 2, 2, 2, 2, 3, 3, 3], [2, 2, 2, 2, 3, 3, 3, 3], [2, 3, 3, 3, 3, 3, 4, 4]], 2: [[2, 3, 3, 3, 3, 4, 4, 4], [3, 3, 3, 3, 3, 4, 4, 4], [3, 4, 4, 4, 4, 4, 5, 5]], 3: [[3, 3, 4, 4, 4, 4, 5, 5], [3, 4, 4, 4, 4, 4, 5, 5], [4, 4, 4, 4, 4, 5, 5, 5]], 4: [[4, 4, 4, 4, 4, 5, 5, 5], [4, 4, 4, 4, 4, 5, 5, 5], [4, 4, 4, 5, 5, 5, 6, 6]], 5: [[5, 5, 5, 5, 5, 6, 6, 7], [5, 6, 6, 6, 6, 7, 7, 7], [6, 6, 6, 7, 7, 7, 7, 8]], 6: [[7, 7, 7, 7, 7, 8, 8, 9], [8, 8, 8, 8, 8, 9, 9, 9], [9, 9, 9, 9, 9, 9, 9, 9]]}\n"
     ]
    }
   ],
   "source": [
    "import csv\n",
    "\n",
    "with open('Table_A.csv', 'r') as csv_file:\n",
    "    reader = csv.reader(csv_file)\n",
    "    next(reader)\n",
    "\n",
    "    tableA_dict = {}\n",
    "\n",
    "    tableA_list = []\n",
    "\n",
    "    for row in reader:\n",
    "        # Convertir chaque élément de la liste de strings en int\n",
    "        row_as_int = [int(x.strip()) for x in row]\n",
    "        tableA_list.append(row_as_int)\n",
    "    \n",
    "    j=0\n",
    "\n",
    "    for i in range(1,7):\n",
    "\n",
    "        tableA_dict[i] = tableA_list[j:j+3]\n",
    "        j+=3\n",
    "    \n",
    "    print(tableA_dict)\n",
    "\n"
   ]
  },
  {
   "cell_type": "code",
   "execution_count": 35,
   "metadata": {},
   "outputs": [
    {
     "name": "stdout",
     "output_type": "stream",
     "text": [
      "{1: [[[1, 2], [2, 2], [2, 3], [3, 3]], [[2, 2], [2, 2], [3, 3], [3, 3]], [[2, 3], [3, 3], [3, 3], [4, 4]]], 2: [[[2, 3], [3, 3], [3, 4], [4, 4]], [[3, 3], [3, 3], [3, 4], [4, 4]], [[3, 4], [4, 4], [4, 4], [5, 5]]], 3: [[[3, 3], [4, 4], [4, 4], [5, 5]], [[3, 4], [4, 4], [4, 4], [5, 5]], [[4, 4], [4, 4], [4, 5], [5, 5]]], 4: [[[4, 4], [4, 4], [4, 5], [5, 5]], [[4, 4], [4, 4], [4, 5], [5, 5]], [[4, 4], [4, 5], [5, 5], [6, 6]]], 5: [[[5, 5], [5, 5], [5, 6], [6, 7]], [[5, 6], [6, 6], [6, 7], [7, 7]], [[6, 6], [6, 7], [7, 7], [7, 8]]], 6: [[[7, 7], [7, 7], [7, 8], [8, 9]], [[8, 8], [8, 8], [8, 9], [9, 9]], [[9, 9], [9, 9], [9, 9], [9, 9]]]}\n"
     ]
    }
   ],
   "source": [
    "for key,value in tableA_dict.items():\n",
    "    i=0\n",
    "    for coude in value:\n",
    "        coude = [[coude[i],coude[i+1]] for i in range(0,len(coude),2)]\n",
    "        value[i] = coude\n",
    "        i+=1\n",
    "    tableA_dict[key] = value\n",
    "\n",
    "print(tableA_dict)"
   ]
  },
  {
   "cell_type": "code",
   "execution_count": 41,
   "metadata": {},
   "outputs": [
    {
     "name": "stdout",
     "output_type": "stream",
     "text": [
      "4\n"
     ]
    }
   ],
   "source": [
    "# Pour Epaule = 2, Coude = 3, Poignet = 3, et Torsion du Poignet = 1 \n",
    "# On devrait obtenir 4\n",
    "print(tableA_dict[2][2][2][0])"
   ]
  },
  {
   "cell_type": "code",
   "execution_count": 45,
   "metadata": {},
   "outputs": [],
   "source": [
    "tableA_dataframe = pd.DataFrame.from_dict({(i, j, k, l): tableA_dict[i][j][k][l] for i in tableA_dict.keys() for j in range(len(tableA_dict[i])) for k in range(len(tableA_dict[i][j])) for l in range(len(tableA_dict[i][j][k]))}, orient='index')\n",
    "\n",
    "tableA_dataframe = tableA_dataframe.reset_index().rename(columns={'level_0': 'épaule', 'level_1': 'coude', 'level_2': 'poignet', 'level_3': 'torsion', 0: 'score'})\n",
    "\n",
    "tableA_dataframe[tableA_dataframe['index']==(2,2,2,0)]['score']\n",
    "\n",
    "tableA_dataframe.to_csv(\"Vrai_Table_A.csv\")"
   ]
  },
  {
   "cell_type": "code",
   "execution_count": 53,
   "metadata": {},
   "outputs": [
    {
     "data": {
      "text/plain": [
       "dtype('O')"
      ]
     },
     "execution_count": 53,
     "metadata": {},
     "output_type": "execute_result"
    }
   ],
   "source": [
    "tableA_dataframe.loc[tableA_dataframe['index'] == (2, 2, 2, 0), 'score'].values[0]\n",
    "\n",
    "tableA_dataframe['index'].dtype"
   ]
  },
  {
   "cell_type": "code",
   "execution_count": 58,
   "metadata": {},
   "outputs": [
    {
     "data": {
      "text/plain": [
       "4"
      ]
     },
     "execution_count": 58,
     "metadata": {},
     "output_type": "execute_result"
    }
   ],
   "source": [
    "import ast\n",
    "df = pd.read_csv('Vrai_Table_A.csv', converters={'index': ast.literal_eval})\n",
    "\n",
    "df.loc[df['index'] == (2, 2, 2, 0), 'score'].values[0]\n"
   ]
  },
  {
   "cell_type": "code",
   "execution_count": 2,
   "metadata": {},
   "outputs": [
    {
     "name": "stdout",
     "output_type": "stream",
     "text": [
      "{1: [1, 3, 2, 3, 3, 4, 5, 5, 6, 6, 7, 7], 2: [2, 3, 2, 3, 4, 5, 5, 5, 6, 7, 7, 7], 3: [3, 3, 3, 4, 4, 5, 5, 6, 6, 7, 7, 7], 4: [5, 5, 5, 6, 6, 7, 7, 7, 7, 7, 8, 8], 5: [7, 7, 7, 7, 7, 8, 8, 8, 8, 8, 8, 8], 6: [8, 8, 8, 8, 8, 8, 8, 9, 9, 9, 9, 9]}\n"
     ]
    }
   ],
   "source": [
    "import csv\n",
    "\n",
    "with open('Table_B.csv', 'r') as csv_file:\n",
    "    reader = csv.reader(csv_file)\n",
    "    next(reader)\n",
    "\n",
    "    tableB_dict = {}\n",
    "\n",
    "    tableB_list = []\n",
    "\n",
    "    for row in reader:\n",
    "        # Convertir chaque élément de la liste de strings en int\n",
    "        row_as_int = [int(x.strip()) for x in row]\n",
    "        tableB_list.append(row_as_int)\n",
    "    \n",
    "    \n",
    "    for i in range(1,7):\n",
    "              \n",
    "         tableB_dict[i] = tableB_list[i-1]\n",
    "        \n",
    "    print(tableB_dict)"
   ]
  },
  {
   "cell_type": "code",
   "execution_count": 3,
   "metadata": {},
   "outputs": [
    {
     "name": "stdout",
     "output_type": "stream",
     "text": [
      "{1: [[1, 3], [2, 3], [3, 4], [5, 5], [6, 6], [7, 7]], 2: [[2, 3], [2, 3], [4, 5], [5, 5], [6, 7], [7, 7]], 3: [[3, 3], [3, 4], [4, 5], [5, 6], [6, 7], [7, 7]], 4: [[5, 5], [5, 6], [6, 7], [7, 7], [7, 7], [8, 8]], 5: [[7, 7], [7, 7], [7, 8], [8, 8], [8, 8], [8, 8]], 6: [[8, 8], [8, 8], [8, 8], [8, 9], [9, 9], [9, 9]]}\n"
     ]
    }
   ],
   "source": [
    "for key, value in tableB_dict.items():\n",
    "    tableB_dict[key] = [[value[i],value[i+1]] for i in range(0,len(value),2)]\n",
    "    \n",
    "print(tableB_dict)\n",
    "    "
   ]
  },
  {
   "cell_type": "code",
   "execution_count": 4,
   "metadata": {},
   "outputs": [
    {
     "name": "stdout",
     "output_type": "stream",
     "text": [
      "5\n"
     ]
    }
   ],
   "source": [
    "# Pour Nuque = 2, Posture de tronc = 3, Jambes = 2, on devrait obtenir 5\n",
    "# Vérifions:\n",
    "print(tableB_dict[2][2][1])"
   ]
  },
  {
   "cell_type": "code",
   "execution_count": 10,
   "metadata": {},
   "outputs": [],
   "source": [
    "table_B_dataframe = pd.DataFrame.from_dict({(i, j, k): tableB_dict[i][j][k] for i in tableB_dict.keys() for j in range(len(tableB_dict[i])) for k in range(len(tableB_dict[i][j]))}, orient='index')\n",
    "\n",
    "table_B_dataframe = table_B_dataframe.reset_index().rename(columns={'level_0': 'nuque', 'level_1': 'posture', 'level_2': 'jambes', 0: 'score'})\n",
    "\n",
    "table_B_dataframe[table_B_dataframe['index']==(2,2,1)]['score']\n",
    "\n",
    "table_B_dataframe.to_csv(\"Vrai_Table_B.csv\")"
   ]
  },
  {
   "cell_type": "code",
   "execution_count": 41,
   "metadata": {},
   "outputs": [
    {
     "data": {
      "text/html": [
       "<div>\n",
       "<style scoped>\n",
       "    .dataframe tbody tr th:only-of-type {\n",
       "        vertical-align: middle;\n",
       "    }\n",
       "\n",
       "    .dataframe tbody tr th {\n",
       "        vertical-align: top;\n",
       "    }\n",
       "\n",
       "    .dataframe thead th {\n",
       "        text-align: right;\n",
       "    }\n",
       "</style>\n",
       "<table border=\"1\" class=\"dataframe\">\n",
       "  <thead>\n",
       "    <tr style=\"text-align: right;\">\n",
       "      <th></th>\n",
       "      <th>1</th>\n",
       "      <th>2</th>\n",
       "      <th>3</th>\n",
       "      <th>4</th>\n",
       "      <th>5</th>\n",
       "      <th>6</th>\n",
       "      <th>7</th>\n",
       "    </tr>\n",
       "  </thead>\n",
       "  <tbody>\n",
       "    <tr>\n",
       "      <th>1</th>\n",
       "      <td>1</td>\n",
       "      <td>2</td>\n",
       "      <td>3</td>\n",
       "      <td>3</td>\n",
       "      <td>4</td>\n",
       "      <td>5</td>\n",
       "      <td>5</td>\n",
       "    </tr>\n",
       "    <tr>\n",
       "      <th>2</th>\n",
       "      <td>2</td>\n",
       "      <td>2</td>\n",
       "      <td>3</td>\n",
       "      <td>4</td>\n",
       "      <td>4</td>\n",
       "      <td>5</td>\n",
       "      <td>5</td>\n",
       "    </tr>\n",
       "    <tr>\n",
       "      <th>3</th>\n",
       "      <td>3</td>\n",
       "      <td>3</td>\n",
       "      <td>3</td>\n",
       "      <td>4</td>\n",
       "      <td>4</td>\n",
       "      <td>5</td>\n",
       "      <td>6</td>\n",
       "    </tr>\n",
       "    <tr>\n",
       "      <th>4</th>\n",
       "      <td>3</td>\n",
       "      <td>3</td>\n",
       "      <td>3</td>\n",
       "      <td>4</td>\n",
       "      <td>5</td>\n",
       "      <td>6</td>\n",
       "      <td>6</td>\n",
       "    </tr>\n",
       "    <tr>\n",
       "      <th>5</th>\n",
       "      <td>4</td>\n",
       "      <td>4</td>\n",
       "      <td>4</td>\n",
       "      <td>5</td>\n",
       "      <td>6</td>\n",
       "      <td>7</td>\n",
       "      <td>7</td>\n",
       "    </tr>\n",
       "    <tr>\n",
       "      <th>6</th>\n",
       "      <td>4</td>\n",
       "      <td>4</td>\n",
       "      <td>5</td>\n",
       "      <td>6</td>\n",
       "      <td>6</td>\n",
       "      <td>7</td>\n",
       "      <td>7</td>\n",
       "    </tr>\n",
       "    <tr>\n",
       "      <th>7</th>\n",
       "      <td>5</td>\n",
       "      <td>5</td>\n",
       "      <td>6</td>\n",
       "      <td>6</td>\n",
       "      <td>7</td>\n",
       "      <td>7</td>\n",
       "      <td>7</td>\n",
       "    </tr>\n",
       "    <tr>\n",
       "      <th>8</th>\n",
       "      <td>5</td>\n",
       "      <td>5</td>\n",
       "      <td>6</td>\n",
       "      <td>7</td>\n",
       "      <td>7</td>\n",
       "      <td>7</td>\n",
       "      <td>7</td>\n",
       "    </tr>\n",
       "  </tbody>\n",
       "</table>\n",
       "</div>"
      ],
      "text/plain": [
       "   1  2  3  4  5  6  7\n",
       "1  1  2  3  3  4  5  5\n",
       "2  2  2  3  4  4  5  5\n",
       "3  3  3  3  4  4  5  6\n",
       "4  3  3  3  4  5  6  6\n",
       "5  4  4  4  5  6  7  7\n",
       "6  4  4  5  6  6  7  7\n",
       "7  5  5  6  6  7  7  7\n",
       "8  5  5  6  7  7  7  7"
      ]
     },
     "execution_count": 41,
     "metadata": {},
     "output_type": "execute_result"
    }
   ],
   "source": [
    "import pandas as pd\n",
    "\n",
    "df = pd.read_csv('Table_C.csv', index_col=0)\n",
    "df\n"
   ]
  },
  {
   "cell_type": "code",
   "execution_count": 42,
   "metadata": {},
   "outputs": [
    {
     "data": {
      "text/plain": [
       "Index(['1', '2', '3', '4', '5', '6', '7'], dtype='object')"
      ]
     },
     "execution_count": 42,
     "metadata": {},
     "output_type": "execute_result"
    }
   ],
   "source": [
    "df.columns"
   ]
  },
  {
   "cell_type": "code",
   "execution_count": 44,
   "metadata": {},
   "outputs": [
    {
     "data": {
      "text/plain": [
       "6"
      ]
     },
     "execution_count": 44,
     "metadata": {},
     "output_type": "execute_result"
    }
   ],
   "source": [
    "a = 6\n",
    "df[f'{a}'][4]"
   ]
  },
  {
   "cell_type": "code",
   "execution_count": null,
   "metadata": {},
   "outputs": [],
   "source": []
  }
 ],
 "metadata": {
  "kernelspec": {
   "display_name": "simulation-IA",
   "language": "python",
   "name": "python3"
  },
  "language_info": {
   "codemirror_mode": {
    "name": "ipython",
    "version": 3
   },
   "file_extension": ".py",
   "mimetype": "text/x-python",
   "name": "python",
   "nbconvert_exporter": "python",
   "pygments_lexer": "ipython3",
   "version": "3.10.6"
  }
 },
 "nbformat": 4,
 "nbformat_minor": 2
}
